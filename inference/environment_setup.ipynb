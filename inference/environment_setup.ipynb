{
 "cells": [
  {
   "cell_type": "markdown",
   "id": "ae7ebdd4",
   "metadata": {},
   "source": [
    "### 🔧 Environment setup for inference\n",
    "\n",
    "In this step, we prepare the software environment required to run inference with the [HaMMon-ML-digital-twin](https://github.com/ICSC-Spoke3/HaMMon-ML-digital-twin) codebase, developed within the ICSC-Spoke3 project.\n",
    "\n",
    "Specifically, we:\n",
    "- Download the source code corresponding to a specific commit .\n",
    "- Extract it into a local folder named `HaMMon-ML-digital-twin`.\n",
    "- Install its Python dependencies via `pip`.\n",
    "\n",
    "This ensures that the inference pipeline runs on exactly the same version of the codebase that was used in the referenced experiment.\n"
   ]
  },
  {
   "cell_type": "code",
   "execution_count": 1,
   "id": "eb0151a6",
   "metadata": {},
   "outputs": [],
   "source": [
    "from pathlib import Path\n",
    "import zipfile\n",
    "import urllib.request\n",
    "import shutil"
   ]
  },
  {
   "cell_type": "code",
   "execution_count": 2,
   "id": "8d3afdf4",
   "metadata": {},
   "outputs": [],
   "source": [
    "# Define paths and commit info\n",
    "commit_id = \"03aad9b266d9875961b886173c51b5cea21d183a\"\n",
    "url = f\"https://github.com/ICSC-Spoke3/HaMMon-ML-digital-twin/archive/{commit_id}.zip\"\n",
    "zip_path = Path(f\"{commit_id}.zip\")\n",
    "final_dir = Path(\"HaMMon-ML-digital-twin\")"
   ]
  },
  {
   "cell_type": "code",
   "execution_count": 3,
   "id": "64cec1e4",
   "metadata": {},
   "outputs": [],
   "source": [
    "# Define the weights directory path\n",
    "weights_dir = Path(\"weights\")\n",
    "\n",
    "# Create the directory if it doesn't exist\n",
    "if not weights_dir.exists():\n",
    "    weights_dir.mkdir(parents=True, exist_ok=True)\n",
    "    print(f\"Created directory: {weights_dir}\")"
   ]
  },
  {
   "cell_type": "code",
   "execution_count": 4,
   "id": "c06e0169",
   "metadata": {},
   "outputs": [
    {
     "name": "stdout",
     "output_type": "stream",
     "text": [
      "Downloading ZIP archive...\n",
      "Extracting archive...\n",
      "✅ Code extracted to 'HaMMon-ML-digital-twin'\n"
     ]
    }
   ],
   "source": [
    "# Download the zip archive of the specific commit\n",
    "print(\"Downloading ZIP archive...\")\n",
    "urllib.request.urlretrieve(url, zip_path)\n",
    "\n",
    "# Extract the archive\n",
    "print(\"Extracting archive...\")\n",
    "with zipfile.ZipFile(zip_path, 'r') as zip_ref:\n",
    "    zip_ref.extractall(\".\")\n",
    "\n",
    "# Rename the extracted folder to the desired name\n",
    "extracted_folder = Path(f\"HaMMon-ML-digital-twin-{commit_id}\")\n",
    "if final_dir.exists():\n",
    "    shutil.rmtree(final_dir)  # Remove existing folder if it exists\n",
    "shutil.move(str(extracted_folder), str(final_dir))\n",
    "\n",
    "# Clean up the downloaded zip file\n",
    "zip_path.unlink()\n",
    "print(f\"✅ Code extracted to '{final_dir}'\")\n"
   ]
  },
  {
   "cell_type": "markdown",
   "id": "ce9d71f4",
   "metadata": {},
   "source": [
    "### install dependencies\n"
   ]
  },
  {
   "cell_type": "code",
   "execution_count": null,
   "id": "3c53b00f",
   "metadata": {},
   "outputs": [],
   "source": [
    "# !pip install -r HaMMon-ML-digital-twin/requirements.txt"
   ]
  },
  {
   "cell_type": "markdown",
   "id": "d76f8ab2",
   "metadata": {},
   "source": [
    "### Download model weights\n",
    "\n",
    "1. Download the weights from the following public Google Drive link:  \n",
    "   [Download Weights](https://drive.google.com/drive/folders/1H7tpC49e3yEOloi-vmYKOKgOdCK5e0Jh?usp=sharing)\n",
    "\n",
    "2. Once downloaded, place the weights into the `/weights` subfolder."
   ]
  }
 ],
 "metadata": {
  "kernelspec": {
   "display_name": "base",
   "language": "python",
   "name": "python3"
  },
  "language_info": {
   "codemirror_mode": {
    "name": "ipython",
    "version": 3
   },
   "file_extension": ".py",
   "mimetype": "text/x-python",
   "name": "python",
   "nbconvert_exporter": "python",
   "pygments_lexer": "ipython3",
   "version": "3.13.2"
  }
 },
 "nbformat": 4,
 "nbformat_minor": 5
}
