{
 "cells": [
  {
   "cell_type": "markdown",
   "id": "ad84ac4e",
   "metadata": {},
   "source": [
    "# Formatter"
   ]
  },
  {
   "cell_type": "code",
   "execution_count": 1,
   "id": "f5456f94",
   "metadata": {},
   "outputs": [],
   "source": [
    "import os\n",
    "import shutil\n",
    "import random"
   ]
  },
  {
   "cell_type": "code",
   "execution_count": 2,
   "id": "e83b49b9",
   "metadata": {},
   "outputs": [],
   "source": [
    "root_dir = '../../Textures'\n",
    "output_dir = os.path.join(root_dir, 'Dataset_Textures_Train_Undersampled')"
   ]
  },
  {
   "cell_type": "code",
   "execution_count": 3,
   "id": "25d2dbfa",
   "metadata": {},
   "outputs": [],
   "source": [
    "train_ratio = 0.7\n",
    "val_ratio = 0.15\n",
    "test_ratio = 0.15\n",
    "random.seed(42)"
   ]
  },
  {
   "cell_type": "code",
   "execution_count": 4,
   "id": "f1be2727",
   "metadata": {},
   "outputs": [],
   "source": [
    "os.makedirs(output_dir, exist_ok=True)"
   ]
  },
  {
   "cell_type": "code",
   "execution_count": 32,
   "id": "aabe0267",
   "metadata": {},
   "outputs": [],
   "source": [
    "folders_to_unify = [\n",
    "    # '2D_Municipio', \n",
    "    # '2D_Palazzo_Maresa', \n",
    "    # '2D_Rilievi_Centro_Italia', \n",
    "    'Textures_Tiled_4096_SantElia_Rudere_CentroItalia', \n",
    "    'Textures_Tiled_4096_Torre_Fontecchio_CentroItalia', \n",
    "    'Textures_Tiled_4096_Corvara Torre_CentroItalia', \n",
    "    'Textures_Tiled_4096_Municipio_Tredozio', \n",
    "    'Textures_Tiled_4096_Palazzo_Fantini_Tredozio', \n",
    "    'Textures_Tiled_4096_Palazzo_Maresa_Tredozio', \n",
    "    'Textures_Tiled_4096_Piazza_Tredozio', \n",
    "    'Textures_Tiled_4096_PiccoloRudere_Corvara_CentroItalia', \n",
    "    'Textures_Tiled_4096_Poggio di Roio-Ed3_CentroItalia', \n",
    "    'Textures_Tiled_4096_Ripa_Chiesetta_CentroItalia', \n",
    "    'Textures_Tiled_4096_Scuola_Tredozio', \n",
    "    'Textures_Tiled_4096_ChiesaSconsacrata_Navelli_CentroItalia', \n",
    "    'Textures_Tiled_4096_SantaMariadelMontePalazzina_CentroItalia', \n",
    "    'Textures_Tiled_4096_SantaMariadelPonte_Chiesa_CentroItalia'\n",
    "]"
   ]
  },
  {
   "cell_type": "code",
   "execution_count": null,
   "id": "afeb750d",
   "metadata": {},
   "outputs": [
    {
     "name": "stdout",
     "output_type": "stream",
     "text": [
      "['Dataset_Textures_Train_Undersampled', 'Testures_Tiled_4096_SantElia_Rudere_CentroItalia', 'Testures_Tiled_4096_Torre_Fontecchio_CentroItalia', 'Textures_Tiled_4096_Corvara Torre_CentroItalia', 'Textures_Tiled_4096_Municipio_Tredozio', 'Textures_Tiled_4096_Palazzo_Fantini_Tredozio', 'Textures_Tiled_4096_PiccoloRudere_Corvara_CentroItalia', 'Textures_Tiled_4096_Poggio di Roio-Ed3_CentroItalia', 'Textures_Tiled_4096_Ripa_Chiesetta_CentroItalia', 'Textures_Tiled_4096_Scuola_Tredozio', 'Texture_Tiled_4096_ChiesaSconsacrata_Navelli_CentroItalia', 'Texture_Tiled_4096_SanNicandroCasolare_CentroItalia', 'Texture_Tiled_4096_SantaMariadelMontePalazzina_CentroItalia', 'Texture_Tiled_4096_SantaMariadelPonte_Chiesa_CentroItalia']\n"
     ]
    }
   ],
   "source": [
    "# folders_to_unify = [f for f in os.listdir(root_dir) if os.path.isdir(os.path.join(root_dir, f))]\n",
    "print(folders_to_unify)"
   ]
  },
  {
   "cell_type": "code",
   "execution_count": null,
   "id": "41c5737d",
   "metadata": {},
   "outputs": [],
   "source": [
    "for folder in folders_to_unify:\n",
    "    folder_path = os.path.join(root_dir, folder, 'undersampled')\n",
    "    if not os.path.exists(folder_path):\n",
    "        print(f\"Folder {folder} does not exist in {root_dir}. Skipping.\")\n",
    "        continue\n",
    "\n",
    "    output_folder_path = os.path.join(output_dir, folder)\n",
    "    for split in ['train', 'val', 'test']:\n",
    "        for sub in ['imgs', 'labels']:\n",
    "            os.makedirs(os.path.join(output_folder_path, split, sub), exist_ok=True)\n",
    "\n",
    "    imgs_path = os.path.join(folder_path, 'imgs')\n",
    "    labels_path = os.path.join(folder_path, 'labels')\n",
    "\n",
    "    if not (os.path.isdir(imgs_path) and os.path.isdir(labels_path)):\n",
    "        print(f\"Missing imgs or labels in {folder_path}. Skipping.\")\n",
    "        continue\n",
    "\n",
    "    image_files = [f for f in os.listdir(imgs_path) if f.endswith('.jpg')]\n",
    "    base_names = [os.path.splitext(f)[0] for f in image_files]\n",
    "    base_names = [b for b in base_names if os.path.exists(os.path.join(labels_path, b + '.png'))]\n",
    "\n",
    "    random.shuffle(base_names)\n",
    "\n",
    "    total = len(base_names)\n",
    "    train_end = int(total * train_ratio)\n",
    "    val_end = train_end + int(total * val_ratio)\n",
    "\n",
    "    split_names = {\n",
    "        'train': base_names[:train_end],\n",
    "        'val': base_names[train_end:val_end],\n",
    "        'test': base_names[val_end:]\n",
    "    }\n",
    "\n",
    "    for split, names in split_names.items():\n",
    "        for name in names:\n",
    "            img_src = os.path.join(imgs_path, name + '.jpg')\n",
    "            label_src = os.path.join(labels_path, name + '.png')\n",
    "\n",
    "            img_dst = os.path.join(output_folder_path, split, 'imgs', name + '.jpg')\n",
    "            label_dst = os.path.join(output_folder_path, split, 'labels', name + '.png')\n",
    "\n",
    "            shutil.copy2(img_src, img_dst)\n",
    "            shutil.copy2(label_src, label_dst)"
   ]
  }
 ],
 "metadata": {
  "kernelspec": {
   "display_name": ".venv",
   "language": "python",
   "name": "python3"
  },
  "language_info": {
   "codemirror_mode": {
    "name": "ipython",
    "version": 3
   },
   "file_extension": ".py",
   "mimetype": "text/x-python",
   "name": "python",
   "nbconvert_exporter": "python",
   "pygments_lexer": "ipython3",
   "version": "3.13.5"
  }
 },
 "nbformat": 4,
 "nbformat_minor": 5
}
