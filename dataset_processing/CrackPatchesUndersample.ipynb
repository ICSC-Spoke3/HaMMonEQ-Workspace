{
 "cells": [
  {
   "cell_type": "markdown",
   "id": "1efe2cf9",
   "metadata": {},
   "source": [
    "# Crack Patches Undersample"
   ]
  },
  {
   "cell_type": "code",
   "execution_count": 1,
   "id": "46ff485c",
   "metadata": {},
   "outputs": [],
   "source": [
    "import numpy as np\n",
    "import os\n",
    "from PIL import Image\n",
    "import random\n",
    "import shutil"
   ]
  },
  {
   "cell_type": "code",
   "execution_count": 2,
   "id": "cc794d21",
   "metadata": {},
   "outputs": [],
   "source": [
    "root_dir = '../../Textures'"
   ]
  },
  {
   "cell_type": "code",
   "execution_count": null,
   "id": "85502ce2",
   "metadata": {},
   "outputs": [],
   "source": [
    "folders_to_undersample = [\n",
    "    # '2D_Municipio', \n",
    "    # '2D_Palazzo_Maresa', \n",
    "    # '2D_Rilievi_Centro_Italia', \n",
    "    'Testures_Tiled_4096_SantElia_Rudere_CentroItalia', \n",
    "    'Testures_Tiled_4096_Torre_Fontecchio_CentroItalia', \n",
    "    'Textures_Tiled_4096_Corvara Torre_CentroItalia', \n",
    "    'Textures_Tiled_4096_Municipio_Tredozio', \n",
    "    'Textures_Tiled_4096_Palazzo_Fantini_Tredozio', \n",
    "    'Textures_Tiled_4096_Palazzo_Maresa_Tredozio', \n",
    "    'Textures_Tiled_4096_Piazza_Tredozio', \n",
    "    'Textures_Tiled_4096_PiccoloRudere_Corvara_CentroItalia', \n",
    "    'Textures_Tiled_4096_Poggio di Roio-Ed3_CentroItalia', \n",
    "    'Textures_Tiled_4096_Ripa_Chiesetta_CentroItalia', \n",
    "    'Textures_Tiled_4096_Scuola_Tredozio', \n",
    "    'Texture_Tiled_4096_ChiesaSconsacrata_Navelli_CentroItalia', \n",
    "    'Texture_Tiled_4096_SantaMariadelMontePalazzina_CentroItalia', \n",
    "    'Texture_Tiled_4096_SantaMariadelPonte_Chiesa_CentroItalia'\n",
    "]"
   ]
  },
  {
   "cell_type": "code",
   "execution_count": null,
   "id": "071c73f6",
   "metadata": {},
   "outputs": [
    {
     "name": "stdout",
     "output_type": "stream",
     "text": [
      "['Testures_Tiled_4096_SantElia_Rudere_CentroItalia', 'Testures_Tiled_4096_Torre_Fontecchio_CentroItalia', 'Textures_Tiled_4096_Corvara Torre_CentroItalia', 'Textures_Tiled_4096_Municipio_Tredozio', 'Textures_Tiled_4096_Palazzo_Fantini_Tredozio', 'Textures_Tiled_4096_PiccoloRudere_Corvara_CentroItalia', 'Textures_Tiled_4096_Poggio di Roio-Ed3_CentroItalia', 'Textures_Tiled_4096_Ripa_Chiesetta_CentroItalia', 'Textures_Tiled_4096_Scuola_Tredozio', 'Texture_Tiled_4096_ChiesaSconsacrata_Navelli_CentroItalia', 'Texture_Tiled_4096_SanNicandroCasolare_CentroItalia', 'Texture_Tiled_4096_SantaMariadelMontePalazzina_CentroItalia', 'Texture_Tiled_4096_SantaMariadelPonte_Chiesa_CentroItalia']\n"
     ]
    }
   ],
   "source": [
    "# folders_to_undersample = [f for f in os.listdir(root_dir) if os.path.isdir(os.path.join(root_dir, f))]\n",
    "print(folders_to_undersample)"
   ]
  },
  {
   "cell_type": "code",
   "execution_count": 4,
   "id": "47e367f7",
   "metadata": {},
   "outputs": [],
   "source": [
    "alpha = 0.1\n",
    "seed = 42\n",
    "random.seed(seed)"
   ]
  },
  {
   "cell_type": "markdown",
   "id": "a81806a4",
   "metadata": {},
   "source": [
    "## Functions"
   ]
  },
  {
   "cell_type": "code",
   "execution_count": null,
   "id": "59f49440",
   "metadata": {},
   "outputs": [],
   "source": [
    "def undersample_dataset(data_path, alpha):\n",
    "    patches_dir = os.path.join(data_path, \"patches\")\n",
    "    imgs_dir = os.path.join(patches_dir, \"imgs\")\n",
    "    labels_dir = os.path.join(patches_dir, \"labels\")\n",
    "\n",
    "    imgs = sorted(os.listdir(imgs_dir))\n",
    "    labels = sorted(os.listdir(labels_dir))\n",
    "\n",
    "    cracked = []\n",
    "    not_cracked = []\n",
    "\n",
    "    for img, label in zip(imgs, labels):\n",
    "        label_path = os.path.join(labels_dir, label)\n",
    "        label_img = Image.open(label_path)\n",
    "        label_array = np.array(label_img)\n",
    "\n",
    "        if np.all(label_array == 0):\n",
    "            not_cracked.append((img, label))\n",
    "        else:\n",
    "            cracked.append((img, label))\n",
    "\n",
    "    target_not_cracked = int(alpha * len(cracked))\n",
    "    sampled_not_cracked = random.sample(not_cracked, min(target_not_cracked, len(not_cracked)))\n",
    "    selected = cracked + sampled_not_cracked\n",
    "\n",
    "    out_dir = os.path.join(data_path, f\"undersampled\")\n",
    "    os.makedirs(os.path.join(out_dir, \"imgs\"), exist_ok=True)\n",
    "    os.makedirs(os.path.join(out_dir, \"labels\"), exist_ok=True)\n",
    "\n",
    "    for img, label in selected:\n",
    "        shutil.copy(os.path.join(imgs_dir, img), os.path.join(out_dir, \"imgs\", img))\n",
    "        shutil.copy(os.path.join(labels_dir, label), os.path.join(out_dir, \"labels\", label))\n",
    "    print(f\"Saved {len(selected)} images (cracked: {len(cracked)}, not cracked: {len(sampled_not_cracked)}) in {out_dir}\")\n",
    "\n",
    "    "
   ]
  },
  {
   "cell_type": "markdown",
   "id": "9bfeb8b6",
   "metadata": {},
   "source": [
    "## Undersample"
   ]
  },
  {
   "cell_type": "code",
   "execution_count": null,
   "id": "7ada1312",
   "metadata": {},
   "outputs": [],
   "source": [
    "for folder in folders_to_undersample:\n",
    "    print(f\"Processing folder: {folder}\")\n",
    "    folder_path = os.path.join(root_dir, folder)\n",
    "    undersample_dataset(folder_path, alpha)"
   ]
  }
 ],
 "metadata": {
  "kernelspec": {
   "display_name": ".venv",
   "language": "python",
   "name": "python3"
  },
  "language_info": {
   "codemirror_mode": {
    "name": "ipython",
    "version": 3
   },
   "file_extension": ".py",
   "mimetype": "text/x-python",
   "name": "python",
   "nbconvert_exporter": "python",
   "pygments_lexer": "ipython3",
   "version": "3.13.5"
  }
 },
 "nbformat": 4,
 "nbformat_minor": 5
}
