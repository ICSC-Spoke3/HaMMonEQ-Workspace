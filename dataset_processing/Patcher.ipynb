{
 "cells": [
  {
   "cell_type": "markdown",
   "id": "9cb14483",
   "metadata": {},
   "source": [
    "# Patcher"
   ]
  },
  {
   "cell_type": "code",
   "execution_count": 1,
   "id": "3b7d43e3",
   "metadata": {},
   "outputs": [],
   "source": [
    "import numpy as np\n",
    "import matplotlib.pyplot as plt\n",
    "import cv2\n",
    "import os\n",
    "from PIL import Image"
   ]
  },
  {
   "cell_type": "code",
   "execution_count": 2,
   "id": "832b3d7a",
   "metadata": {},
   "outputs": [],
   "source": [
    "root_dir = '../../Textures'"
   ]
  },
  {
   "cell_type": "code",
   "execution_count": null,
   "id": "19133ab2",
   "metadata": {},
   "outputs": [],
   "source": [
    "folders_to_patch = [\n",
    "    '2D_Municipio', \n",
    "    '2D_Palazzo_Maresa', \n",
    "    '2D_Rilievi_Centro_Italia', \n",
    "    'Testures_Tiled_4096_SantElia_Rudere_CentroItalia', \n",
    "    'Testures_Tiled_4096_Torre_Fontecchio_CentroItalia', \n",
    "    'Textures_Tiled_4096_Corvara Torre_CentroItalia', \n",
    "    'Textures_Tiled_4096_Municipio_Tredozio', \n",
    "    'Textures_Tiled_4096_Palazzo_Fantini_Tredozio', \n",
    "    'Textures_Tiled_4096_Palazzo_Maresa_Tredozio', \n",
    "    'Textures_Tiled_4096_Piazza_Tredozio', \n",
    "    'Textures_Tiled_4096_PiccoloRudere_Corvara_CentroItalia', \n",
    "    'Textures_Tiled_4096_Poggio di Roio-Ed3_CentroItalia', \n",
    "    'Textures_Tiled_4096_Ripa_Chiesetta_CentroItalia', \n",
    "    'Textures_Tiled_4096_Scuola_Tredozio', \n",
    "    'Texture_Tiled_4096_ChiesaSconsacrata_Navelli_CentroItalia', \n",
    "    'Texture_Tiled_4096_SantaMariadelMontePalazzina_CentroItalia', \n",
    "    'Texture_Tiled_4096_SantaMariadelPonte_Chiesa_CentroItalia'\n",
    "]"
   ]
  },
  {
   "cell_type": "code",
   "execution_count": null,
   "id": "499c4ef8",
   "metadata": {},
   "outputs": [
    {
     "name": "stdout",
     "output_type": "stream",
     "text": [
      "['Testures_Tiled_4096_SantElia_Rudere_CentroItalia', 'Testures_Tiled_4096_Torre_Fontecchio_CentroItalia', 'Textures_Tiled_4096_Corvara Torre_CentroItalia', 'Textures_Tiled_4096_Municipio_Tredozio', 'Textures_Tiled_4096_Palazzo_Fantini_Tredozio', 'Textures_Tiled_4096_PiccoloRudere_Corvara_CentroItalia', 'Textures_Tiled_4096_Poggio di Roio-Ed3_CentroItalia', 'Textures_Tiled_4096_Ripa_Chiesetta_CentroItalia', 'Textures_Tiled_4096_Scuola_Tredozio', 'Texture_Tiled_4096_ChiesaSconsacrata_Navelli_CentroItalia', 'Texture_Tiled_4096_SanNicandroCasolare_CentroItalia', 'Texture_Tiled_4096_SantaMariadelMontePalazzina_CentroItalia', 'Texture_Tiled_4096_SantaMariadelPonte_Chiesa_CentroItalia']\n"
     ]
    }
   ],
   "source": [
    "# folders_to_patch = [f for f in os.listdir(root_dir) if os.path.isdir(os.path.join(root_dir, f))]\n",
    "print(folders_to_patch)"
   ]
  },
  {
   "cell_type": "markdown",
   "id": "33c96c91",
   "metadata": {},
   "source": [
    "## Funzioni"
   ]
  },
  {
   "cell_type": "code",
   "execution_count": 4,
   "id": "07827aaf",
   "metadata": {},
   "outputs": [],
   "source": [
    "def crop_cv2_patches(data_path, patch_size=512):\n",
    "    images_dir = os.path.join(data_path, \"imgs\")\n",
    "    labels_dir = os.path.join(data_path, \"labels\")\n",
    "\n",
    "    patches_dir = os.path.join(data_path, \"patches\")\n",
    "    os.makedirs(patches_dir, exist_ok=True)\n",
    "\n",
    "    img_dir = os.path.join(patches_dir, \"imgs\")\n",
    "    label_dir = os.path.join(patches_dir, \"labels\")\n",
    "    os.makedirs(img_dir, exist_ok=True)\n",
    "    os.makedirs(label_dir, exist_ok=True)\n",
    "\n",
    "    for image_file in os.listdir(images_dir):\n",
    "\n",
    "        image_path = os.path.join(images_dir, image_file)\n",
    "        label_file = os.path.splitext(image_file)[0] + '.png'\n",
    "        label_path = os.path.join(labels_dir, label_file)\n",
    "\n",
    "        if not os.path.isfile(image_path):\n",
    "            print(f\"Immagine non trovata: {image_path}\")\n",
    "            continue\n",
    "        if not os.path.isfile(label_path):\n",
    "            print(f\"Label non trovata: {label_path}\")\n",
    "            continue\n",
    "\n",
    "        img = cv2.imread(image_path)\n",
    "        label = cv2.imread(label_path, cv2.IMREAD_UNCHANGED)\n",
    "\n",
    "        h, w, _ = img.shape\n",
    "\n",
    "        new_h = int(np.ceil(h / patch_size) * patch_size)\n",
    "        new_w = int(np.ceil(w / patch_size) * patch_size)\n",
    "\n",
    "        img_resized = cv2.resize(img, (new_w, new_h), interpolation=cv2.INTER_LINEAR)\n",
    "        label_resized = cv2.resize(label, (new_w, new_h), interpolation=cv2.INTER_NEAREST)\n",
    "\n",
    "        base_name = os.path.splitext(image_file)[0]\n",
    "        count = 0\n",
    "        for y in range(0, new_h, patch_size):\n",
    "            for x in range(0, new_w, patch_size):\n",
    "                img_patch = img_resized[y:y+patch_size, x:x+patch_size]\n",
    "                label_patch = label_resized[y:y+patch_size, x:x+patch_size]\n",
    "\n",
    "                img_patch_path = os.path.join(img_dir, f\"{base_name}_patch_{count:04d}.jpg\")\n",
    "                label_patch_path = os.path.join(label_dir, f\"{base_name}_patch_{count:04d}.png\")\n",
    "\n",
    "                cv2.imwrite(img_patch_path, img_patch)\n",
    "                cv2.imwrite(label_patch_path, label_patch)\n",
    "\n",
    "                count += 1\n",
    "\n",
    "        print(f\"Saved {count} patches to '{img_dir}' and '{label_dir}'\")"
   ]
  },
  {
   "cell_type": "code",
   "execution_count": null,
   "id": "46764ced",
   "metadata": {},
   "outputs": [],
   "source": [
    "def check_labels(label_dir):\n",
    "    for filename in os.listdir(label_dir):\n",
    "        path = os.path.join(label_dir, filename)\n",
    "        if not os.path.isfile(path):\n",
    "            continue\n",
    "        label = Image.open(path)\n",
    "        label_array = np.array(label)\n",
    "\n",
    "        unique_values = np.unique(label_array)\n",
    "        if not set(unique_values).issubset({0, 255}):\n",
    "            print(f\"❌ {filename} has different values from 0 and 255: {unique_values}\")"
   ]
  },
  {
   "cell_type": "code",
   "execution_count": null,
   "id": "411f0b18",
   "metadata": {},
   "outputs": [],
   "source": [
    "def show_image_label_patches(patch_dir):\n",
    "    img_dir = os.path.join(patch_dir, \"images\")\n",
    "    label_dir = os.path.join(patch_dir, \"labels\")\n",
    "\n",
    "    img_files = sorted(os.listdir(img_dir))\n",
    "    label_files = sorted(os.listdir(label_dir))\n",
    "\n",
    "    assert len(img_files) == len(label_files), \"Mismatch in image and label counts\"\n",
    "\n",
    "    n = len(img_files)\n",
    "    rows = n\n",
    "\n",
    "    plt.figure(figsize=(10, rows * 2.5))\n",
    "    for i in range(n):\n",
    "        img_path = os.path.join(img_dir, img_files[i])\n",
    "        label_path = os.path.join(label_dir, label_files[i])\n",
    "\n",
    "        img = cv2.imread(img_path)\n",
    "        label = cv2.imread(label_path, cv2.IMREAD_UNCHANGED)\n",
    "\n",
    "        img_rgb = cv2.cvtColor(img, cv2.COLOR_BGR2RGB)\n",
    "\n",
    "        plt.subplot(rows, 2, i * 2 + 1)\n",
    "        plt.imshow(img_rgb)\n",
    "        plt.axis('off')\n",
    "        plt.title(f'Image {i + 1}')\n",
    "\n",
    "        plt.subplot(rows, 2, i * 2 + 2)\n",
    "        cmap = 'gray' if len(label.shape) == 2 or (len(label.shape) == 3 and label.shape[2] == 1) else None\n",
    "        plt.imshow(label, cmap=cmap)\n",
    "        plt.axis('off')\n",
    "        plt.title(f'Label {i + 1}')\n",
    "\n",
    "    plt.tight_layout()\n",
    "    plt.show()"
   ]
  },
  {
   "cell_type": "markdown",
   "id": "3e51dd2a",
   "metadata": {},
   "source": [
    "## Patcher"
   ]
  },
  {
   "cell_type": "code",
   "execution_count": null,
   "id": "3a4b3e80",
   "metadata": {},
   "outputs": [],
   "source": [
    "for folder in folders_to_patch:\n",
    "    print(f\"Processing folder: {folder}\")\n",
    "    data_folder = os.path.join(root_dir, folder)        \n",
    "    crop_cv2_patches(data_folder)"
   ]
  },
  {
   "cell_type": "code",
   "execution_count": 8,
   "id": "ec72803b",
   "metadata": {},
   "outputs": [],
   "source": [
    "for folder in folders_to_patch:\n",
    "    out_dir = os.path.join(root_dir, folder, \"patches\", \"labels\")\n",
    "    check_labels(out_dir)"
   ]
  }
 ],
 "metadata": {
  "kernelspec": {
   "display_name": ".venv",
   "language": "python",
   "name": "python3"
  },
  "language_info": {
   "codemirror_mode": {
    "name": "ipython",
    "version": 3
   },
   "file_extension": ".py",
   "mimetype": "text/x-python",
   "name": "python",
   "nbconvert_exporter": "python",
   "pygments_lexer": "ipython3",
   "version": "3.13.5"
  }
 },
 "nbformat": 4,
 "nbformat_minor": 5
}
