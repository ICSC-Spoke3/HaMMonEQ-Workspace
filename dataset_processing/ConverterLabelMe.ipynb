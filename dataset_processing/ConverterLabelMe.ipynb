{
 "cells": [
  {
   "cell_type": "markdown",
   "id": "a2d19b9b",
   "metadata": {},
   "source": [
    "# Converter Json LabelMe -> label"
   ]
  },
  {
   "cell_type": "code",
   "execution_count": 8,
   "id": "8bde063b",
   "metadata": {},
   "outputs": [],
   "source": [
    "import json\n",
    "import os\n",
    "import cv2\n",
    "import numpy as np\n",
    "import matplotlib.pyplot as plt\n",
    "import shutil"
   ]
  },
  {
   "cell_type": "code",
   "execution_count": 2,
   "id": "3e35fbb2",
   "metadata": {},
   "outputs": [],
   "source": [
    "root_dir = '../../Textures'"
   ]
  },
  {
   "cell_type": "code",
   "execution_count": null,
   "id": "69b1eada",
   "metadata": {},
   "outputs": [],
   "source": [
    "folders_to_convert = [\n",
    "    # '2D_Municipio', \n",
    "    # '2D_Palazzo_Maresa', \n",
    "    # '2D_Rilievi_Centro_Italia', \n",
    "    'Testures_Tiled_4096_SantElia_Rudere_CentroItalia', \n",
    "    'Testures_Tiled_4096_Torre_Fontecchio_CentroItalia', \n",
    "    'Textures_Tiled_4096_Corvara Torre_CentroItalia', \n",
    "    'Textures_Tiled_4096_Municipio_Tredozio', \n",
    "    'Textures_Tiled_4096_Palazzo_Fantini_Tredozio', \n",
    "    'Textures_Tiled_4096_Palazzo_Maresa_Tredozio', \n",
    "    'Textures_Tiled_4096_Piazza_Tredozio', \n",
    "    'Textures_Tiled_4096_PiccoloRudere_Corvara_CentroItalia', \n",
    "    'Textures_Tiled_4096_Poggio di Roio-Ed3_CentroItalia', \n",
    "    'Textures_Tiled_4096_Ripa_Chiesetta_CentroItalia', \n",
    "    'Textures_Tiled_4096_Scuola_Tredozio', \n",
    "    'Texture_Tiled_4096_ChiesaSconsacrata_Navelli_CentroItalia', \n",
    "    'Texture_Tiled_4096_SantaMariadelMontePalazzina_CentroItalia', \n",
    "    'Texture_Tiled_4096_SantaMariadelPonte_Chiesa_CentroItalia'\n",
    "]"
   ]
  },
  {
   "cell_type": "code",
   "execution_count": null,
   "id": "0d78a3ea",
   "metadata": {},
   "outputs": [
    {
     "name": "stdout",
     "output_type": "stream",
     "text": [
      "['Testures_Tiled_4096_SantElia_Rudere_CentroItalia', 'Testures_Tiled_4096_Torre_Fontecchio_CentroItalia', 'Textures_Tiled_4096_Corvara Torre_CentroItalia', 'Textures_Tiled_4096_Municipio_Tredozio', 'Textures_Tiled_4096_Palazzo_Fantini_Tredozio', 'Textures_Tiled_4096_PiccoloRudere_Corvara_CentroItalia', 'Textures_Tiled_4096_Poggio di Roio-Ed3_CentroItalia', 'Textures_Tiled_4096_Ripa_Chiesetta_CentroItalia', 'Textures_Tiled_4096_Scuola_Tredozio', 'Texture_Tiled_4096_ChiesaSconsacrata_Navelli_CentroItalia', 'Texture_Tiled_4096_SanNicandroCasolare_CentroItalia', 'Texture_Tiled_4096_SantaMariadelMontePalazzina_CentroItalia', 'Texture_Tiled_4096_SantaMariadelPonte_Chiesa_CentroItalia']\n"
     ]
    }
   ],
   "source": [
    "# folders_to_convert = [f for f in os.listdir(root_dir) if os.path.isdir(os.path.join(root_dir, f))]\n",
    "print(folders_to_convert)"
   ]
  },
  {
   "cell_type": "markdown",
   "id": "7689975b",
   "metadata": {},
   "source": [
    "## Funzioni"
   ]
  },
  {
   "cell_type": "code",
   "execution_count": 4,
   "id": "6134fa8f",
   "metadata": {},
   "outputs": [],
   "source": [
    "def make_bitmap(data_folder):\n",
    "    json_dir = os.path.join(data_folder, 'json')\n",
    "\n",
    "    for json_file in os.listdir(json_dir):\n",
    "\n",
    "        label_path = os.path.join(json_dir, json_file)\n",
    "        label_name = os.path.splitext(json_file)[0] + '.png'\n",
    "        bitmap_path = os.path.join(data_folder, 'labels', label_name)\n",
    "        \n",
    "        with open(label_path, 'r') as f:\n",
    "            data = json.load(f)\n",
    "\n",
    "        height, width = data['imageHeight'], data['imageWidth']\n",
    "        mask = np.zeros((height, width, 3), dtype=np.uint8)\n",
    "        for shape in data['shapes']:\n",
    "            if shape['shape_type'] != 'polygon':\n",
    "                continue\n",
    "            points = np.array(shape['points'], dtype=np.int32)\n",
    "            cv2.fillPoly(mask, [points], color=(255, 255, 255))\n",
    "        \n",
    "        os.makedirs(os.path.dirname(bitmap_path), exist_ok=True)\n",
    "\n",
    "        cv2.imwrite(bitmap_path, mask)"
   ]
  },
  {
   "cell_type": "code",
   "execution_count": 5,
   "id": "fde64099",
   "metadata": {},
   "outputs": [],
   "source": [
    "def convert_folder(folder):\n",
    "    image_extensions = ['.png', '.jpeg', '.bmp', '.tif', '.tiff', '.webp', '.JPG']\n",
    "    for filename in os.listdir(folder):\n",
    "        name, ext = os.path.splitext(filename)\n",
    "        if ext in image_extensions:\n",
    "            old_path = os.path.join(folder, filename)\n",
    "            new_path = os.path.join(folder, name + '.jpg')\n",
    "            os.rename(old_path, new_path)\n",
    "            print(f\"Rinominato: {old_path} → {new_path}\")"
   ]
  },
  {
   "cell_type": "code",
   "execution_count": 11,
   "id": "66798a9b",
   "metadata": {},
   "outputs": [],
   "source": [
    "def organize_folder(base_path):\n",
    "    imgs_path = os.path.join(base_path, \"imgs\")\n",
    "    json_path = os.path.join(base_path, \"json\")\n",
    "    \n",
    "    os.makedirs(imgs_path, exist_ok=True)\n",
    "    os.makedirs(json_path, exist_ok=True)\n",
    "\n",
    "    for file in os.listdir(base_path):\n",
    "        file_path = os.path.join(base_path, file)\n",
    "        if os.path.isfile(file_path):\n",
    "            if file.lower().endswith(\".jpg\"):\n",
    "                shutil.move(file_path, os.path.join(imgs_path, file))\n",
    "            elif file.lower().endswith(\".json\"):\n",
    "                shutil.move(file_path, os.path.join(json_path, file))\n",
    "\n",
    "    print(\"Done organizing folder:\", base_path)"
   ]
  },
  {
   "cell_type": "markdown",
   "id": "50814ffc",
   "metadata": {},
   "source": [
    "## Compute Labels"
   ]
  },
  {
   "cell_type": "code",
   "execution_count": null,
   "id": "73e0643c",
   "metadata": {},
   "outputs": [
    {
     "name": "stdout",
     "output_type": "stream",
     "text": [
      "Done organizing folder: ../../Textures\\Testures_Tiled_4096_SantElia_Rudere_CentroItalia\n",
      "Done organizing folder: ../../Textures\\Testures_Tiled_4096_Torre_Fontecchio_CentroItalia\n",
      "Done organizing folder: ../../Textures\\Textures_Tiled_4096_Corvara Torre_CentroItalia\n",
      "Done organizing folder: ../../Textures\\Textures_Tiled_4096_Municipio_Tredozio\n",
      "Done organizing folder: ../../Textures\\Textures_Tiled_4096_Palazzo_Fantini_Tredozio\n",
      "Done organizing folder: ../../Textures\\Textures_Tiled_4096_PiccoloRudere_Corvara_CentroItalia\n",
      "Done organizing folder: ../../Textures\\Textures_Tiled_4096_Poggio di Roio-Ed3_CentroItalia\n",
      "Done organizing folder: ../../Textures\\Textures_Tiled_4096_Ripa_Chiesetta_CentroItalia\n",
      "Done organizing folder: ../../Textures\\Textures_Tiled_4096_Scuola_Tredozio\n",
      "Done organizing folder: ../../Textures\\Texture_Tiled_4096_ChiesaSconsacrata_Navelli_CentroItalia\n",
      "Done organizing folder: ../../Textures\\Texture_Tiled_4096_SanNicandroCasolare_CentroItalia\n",
      "Done organizing folder: ../../Textures\\Texture_Tiled_4096_SantaMariadelMontePalazzina_CentroItalia\n",
      "Done organizing folder: ../../Textures\\Texture_Tiled_4096_SantaMariadelPonte_Chiesa_CentroItalia\n"
     ]
    }
   ],
   "source": [
    "for folder in folders_to_convert:\n",
    "    folder_path = os.path.join(root_dir, folder)\n",
    "    organize_folder(folder_path)"
   ]
  },
  {
   "cell_type": "code",
   "execution_count": null,
   "id": "853a03a9",
   "metadata": {},
   "outputs": [
    {
     "name": "stdout",
     "output_type": "stream",
     "text": [
      "Converting folder: Testures_Tiled_4096_SantElia_Rudere_CentroItalia\n",
      "Converting folder: Testures_Tiled_4096_Torre_Fontecchio_CentroItalia\n",
      "Converting folder: Textures_Tiled_4096_Corvara Torre_CentroItalia\n",
      "Converting folder: Textures_Tiled_4096_Municipio_Tredozio\n",
      "Converting folder: Textures_Tiled_4096_Palazzo_Fantini_Tredozio\n",
      "Converting folder: Textures_Tiled_4096_PiccoloRudere_Corvara_CentroItalia\n",
      "Converting folder: Textures_Tiled_4096_Poggio di Roio-Ed3_CentroItalia\n",
      "Converting folder: Textures_Tiled_4096_Ripa_Chiesetta_CentroItalia\n",
      "Converting folder: Textures_Tiled_4096_Scuola_Tredozio\n",
      "Converting folder: Texture_Tiled_4096_ChiesaSconsacrata_Navelli_CentroItalia\n",
      "Converting folder: Texture_Tiled_4096_SanNicandroCasolare_CentroItalia\n",
      "Converting folder: Texture_Tiled_4096_SantaMariadelMontePalazzina_CentroItalia\n",
      "Converting folder: Texture_Tiled_4096_SantaMariadelPonte_Chiesa_CentroItalia\n"
     ]
    }
   ],
   "source": [
    "for folder in folders_to_convert:\n",
    "    print(f\"Converting folder: {folder}\")\n",
    "    folder_path = os.path.join(root_dir, folder)\n",
    "    \n",
    "    convert_folder(os.path.join(folder_path, 'imgs'))\n",
    "\n",
    "    make_bitmap(folder_path)"
   ]
  }
 ],
 "metadata": {
  "kernelspec": {
   "display_name": ".venv",
   "language": "python",
   "name": "python3"
  },
  "language_info": {
   "codemirror_mode": {
    "name": "ipython",
    "version": 3
   },
   "file_extension": ".py",
   "mimetype": "text/x-python",
   "name": "python",
   "nbconvert_exporter": "python",
   "pygments_lexer": "ipython3",
   "version": "3.13.5"
  }
 },
 "nbformat": 4,
 "nbformat_minor": 5
}
